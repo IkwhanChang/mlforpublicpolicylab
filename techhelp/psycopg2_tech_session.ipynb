{
 "cells": [
  {
   "cell_type": "code",
   "execution_count": null,
   "metadata": {
    "collapsed": true
   },
   "outputs": [],
   "source": [
    "import matplotlib.pyplot as plt\n",
    "import numpy as np\n",
    "import pprint\n",
    "import psycopg2\n",
    "import psycopg2.extras\n",
    "import random\n",
    "\n",
    "pp = pprint.PrettyPrinter(indent=4)"
   ]
  },
  {
   "cell_type": "markdown",
   "metadata": {},
   "source": [
    "# Connecting to the DB"
   ]
  },
  {
   "cell_type": "markdown",
   "metadata": {},
   "source": [
    "Set up the connection properties you need to access the database. Connect to the database using **.connect** with following connection parameters. Remember your username and password can be accessed directly from the **.pgpass** file."
   ]
  },
  {
   "cell_type": "code",
   "execution_count": null,
   "metadata": {
    "collapsed": true,
    "scrolled": true
   },
   "outputs": [],
   "source": [
    "db_host = 'mlpolicylab.db.dssg.io'\n",
    "db_database = \"tech_session_nc\""
   ]
  },
  {
   "cell_type": "code",
   "execution_count": null,
   "metadata": {
    "collapsed": true
   },
   "outputs": [],
   "source": [
    "pgsql_connection = psycopg2.connect(host=db_host, database=db_database)\n",
    "pp.pprint(pgsql_connection.get_dsn_parameters())"
   ]
  },
  {
   "cell_type": "markdown",
   "metadata": {},
   "source": [
    "Use the connection's cursor to execute and run queries. The cursor can be used with different output formats: each row in the database can be represented in both list as well as dictionary datatypes."
   ]
  },
  {
   "cell_type": "code",
   "execution_count": null,
   "metadata": {
    "collapsed": true
   },
   "outputs": [],
   "source": [
    "# As default, results are returned as a list of columns (similar to csv)\n",
    "pgsql_cursor = pgsql_connection.cursor()\n",
    "\n",
    "# We can also get results as a dictionary, where values are mapped to column names (preferred)\n",
    "pgsql_cursor_dict = pgsql_connection.cursor(cursor_factory=psycopg2.extras.DictCursor)"
   ]
  },
  {
   "cell_type": "markdown",
   "metadata": {},
   "source": [
    "# Executing Queries (using dicts)"
   ]
  },
  {
   "cell_type": "markdown",
   "metadata": {},
   "source": [
    "Let's count the number of rows in one of our tables (inmt4aa1)."
   ]
  },
  {
   "cell_type": "code",
   "execution_count": null,
   "metadata": {
    "collapsed": true
   },
   "outputs": [],
   "source": [
    "# SQL query.\n",
    "sql_count = 'SELECT COUNT(*) AS row_count FROM raw.inmt4aa1;'\n",
    "\n",
    "# Execute it with dict cursor.\n",
    "pgsql_cursor_dict.execute(sql_count)\n",
    "\n",
    "# Fetch first (and only) row, then output the count\n",
    "first_row = pgsql_cursor_dict.fetchone()\n",
    "\n",
    "# Format of the first_row variable\n",
    "print('First row datatype is {}'.format(type(first_row)))\n",
    "\n",
    "# First row can be accessed as python dictionary.\n",
    "# Notice the key is the same name as the AS clause above.\n",
    "print('row_count = {}'.format(first_row['row_count']))"
   ]
  },
  {
   "cell_type": "markdown",
   "metadata": {},
   "source": [
    "Now we'll retrieve rows from the table. However, we'll only fetch the first result."
   ]
  },
  {
   "cell_type": "code",
   "execution_count": null,
   "metadata": {
    "collapsed": true
   },
   "outputs": [],
   "source": [
    "# SQL query.\n",
    "sql_select = 'SELECT * FROM raw.inmt4aa1 LIMIT 10;'\n",
    "pgsql_cursor_dict.execute(sql_select)\n",
    "first_row = pgsql_cursor_dict.fetchone()\n",
    "\n",
    "# Keys in first_row variable are the columns of raw.inmt4aa1 table\n",
    "print(\"First Row Keys\")\n",
    "pp.pprint(list(first_row.keys()))\n",
    "print(\"\\n-----------------------------------------------------------------\\n\")\n",
    "\n",
    "# Access values in the first_row varaible\n",
    "print(\"First Row Values\")\n",
    "pp.pprint({k: v for k, v in first_row.items()})\n"
   ]
  },
  {
   "cell_type": "markdown",
   "metadata": {},
   "source": [
    "Now, let's fetch multiple results"
   ]
  },
  {
   "cell_type": "code",
   "execution_count": null,
   "metadata": {
    "collapsed": true
   },
   "outputs": [],
   "source": [
    "sql_select = 'SELECT * FROM raw.inmt4aa1 LIMIT 10;'\n",
    "pgsql_cursor_dict.execute(sql_select)\n",
    "\n",
    "# First 10 rows.\n",
    "result_list = pgsql_cursor_dict.fetchmany(size=10)\n",
    "\n",
    "# Let's understand the datatype returned by fetchmany\n",
    "print(type(result_list))\n",
    "print(type(result_list[0]))\n",
    "\n",
    "# loop\n",
    "result_counter = 0\n",
    "for i, result_row in enumerate(result_list):\n",
    "    print('\\n------------------------------------------------\\n')\n",
    "    print('Row {}'.format(i))\n",
    "    pp.pprint({k: v for k, v in result_row.items()})"
   ]
  },
  {
   "cell_type": "markdown",
   "metadata": {},
   "source": [
    "# Executing Queries (using lists)"
   ]
  },
  {
   "cell_type": "markdown",
   "metadata": {},
   "source": [
    "Now let's see how things would change if we were using the default cursor."
   ]
  },
  {
   "cell_type": "code",
   "execution_count": null,
   "metadata": {
    "collapsed": true
   },
   "outputs": [],
   "source": [
    "# SQL query.\n",
    "sql_count = 'SELECT COUNT(*) as row_count FROM raw.inmt4aa1;'\n",
    "\n",
    "# execute it with list cursor.\n",
    "pgsql_cursor.execute(sql_count)\n",
    "first_row = pgsql_cursor.fetchone()\n",
    "\n",
    "print('First row is {}'.format(type(first_row)))\n",
    "\n",
    "# First row should now be accessed as a list\n",
    "print('row_count = {}'.format(first_row[0]))"
   ]
  },
  {
   "cell_type": "code",
   "execution_count": null,
   "metadata": {
    "collapsed": true,
    "scrolled": true
   },
   "outputs": [],
   "source": [
    "# SQL query.\n",
    "sql_select = 'SELECT * FROM raw.inmt4aa1 LIMIT 10;'\n",
    "pgsql_cursor.execute(sql_select)\n",
    "first_row = pgsql_cursor.fetchone()\n",
    "# Format of the first_row variable\n",
    "print('First row datatype is {}'.format(type(first_row)))\n",
    "print()\n",
    "\n",
    "# Notice first_row is a list and thus doesn't have any column names. \n",
    "# We need to remember the mapping from the index to the column names.\n",
    "\n",
    "# Access values in the first_row variable\n",
    "print('First Row Values')\n",
    "print(first_row)"
   ]
  },
  {
   "cell_type": "code",
   "execution_count": null,
   "metadata": {
    "collapsed": true
   },
   "outputs": [],
   "source": [
    "# SQL query.\n",
    "sql_select = 'SELECT * FROM raw.inmt4aa1 LIMIT 10;'\n",
    "pgsql_cursor.execute(sql_select)\n",
    "result_list = pgsql_cursor.fetchmany(size=10)\n",
    "\n",
    "print(type(result_list))\n",
    "print(type(result_list[0]))\n",
    "\n",
    "# loop\n",
    "result_counter = 0\n",
    "for i, result_row in enumerate(result_list):\n",
    "    print('\\n------------------------------------------------\\n')\n",
    "    print('Row {0}\\n'.format(i))\n",
    "    pp.pprint(result_row)"
   ]
  },
  {
   "cell_type": "markdown",
   "metadata": {},
   "source": [
    "# Manipulating Tables"
   ]
  },
  {
   "cell_type": "markdown",
   "metadata": {},
   "source": [
    "Please enter your andrew id here. We don't want to create the same table over and over again. "
   ]
  },
  {
   "cell_type": "code",
   "execution_count": null,
   "metadata": {
    "collapsed": true
   },
   "outputs": [],
   "source": [
    "andrew_id = 'kit'\n",
    "table_name = '{}_hobbies'.format(andrew_id)"
   ]
  },
  {
   "cell_type": "markdown",
   "metadata": {},
   "source": [
    "Execute an appropriate CREATE statement on the cursor. Now go to DBeaver. Do you see the new table?"
   ]
  },
  {
   "cell_type": "code",
   "execution_count": null,
   "metadata": {
    "collapsed": true
   },
   "outputs": [],
   "source": [
    "create_table = '''CREATE TABLE IF NOT EXISTS scratch.{} (\n",
    "    hobby varchar NULL,\n",
    "    hours_per_week int\n",
    ");'''.format(table_name)\n",
    "pgsql_cursor.execute(create_table)"
   ]
  },
  {
   "cell_type": "markdown",
   "metadata": {},
   "source": [
    "Statements that modify the state of the database will not be physically reflected until we tell the connection to commit these changes. "
   ]
  },
  {
   "cell_type": "code",
   "execution_count": null,
   "metadata": {
    "collapsed": true
   },
   "outputs": [],
   "source": [
    "pgsql_connection.commit()"
   ]
  },
  {
   "cell_type": "markdown",
   "metadata": {},
   "source": [
    "We can now insert records into the table and commit the changes."
   ]
  },
  {
   "cell_type": "code",
   "execution_count": null,
   "metadata": {
    "collapsed": true
   },
   "outputs": [],
   "source": [
    "insert_into_table = '''INSERT INTO scratch.{}\n",
    "    (hobby, hours_per_week)\n",
    "    VALUES(%s, %s);\n",
    "'''.format(table_name)\n",
    "records_to_insert = [('improv', 10), ('sleep', 40)]\n",
    "for record in records_to_insert:\n",
    "    pgsql_cursor.execute(insert_into_table, record)\n",
    "pgsql_connection.commit()"
   ]
  },
  {
   "cell_type": "markdown",
   "metadata": {},
   "source": [
    "Finally, we will drop the table (and commit!)"
   ]
  },
  {
   "cell_type": "code",
   "execution_count": null,
   "metadata": {
    "collapsed": true
   },
   "outputs": [],
   "source": [
    "drop_table = 'DROP TABLE scratch.{};'.format(table_name)\n",
    "pgsql_cursor.execute(drop_table)\n",
    "pgsql_connection.commit()"
   ]
  },
  {
   "cell_type": "markdown",
   "metadata": {},
   "source": [
    "# Data Visualization"
   ]
  },
  {
   "cell_type": "markdown",
   "metadata": {},
   "source": [
    "Let's get the histogram of number of disciplinary infraction charges by inmate."
   ]
  },
  {
   "cell_type": "code",
   "execution_count": null,
   "metadata": {
    "collapsed": true
   },
   "outputs": [],
   "source": [
    "sql_query = '''\n",
    "        SELECT inmate_doc_id, COUNT(*) AS num_charges FROM raw.inmt4aa1 as inmates\n",
    "        LEFT JOIN raw.INMT9CF1 as infraction\n",
    "        ON inmates.inmate_doc_id = infraction.offender_doc_id\n",
    "        GROUP BY inmate_doc_id;\n",
    "'''\n",
    "\n",
    "pgsql_cursor_dict.execute(sql_query)\n",
    "num_charges_results = pgsql_cursor_dict.fetchall()"
   ]
  },
  {
   "cell_type": "code",
   "execution_count": null,
   "metadata": {
    "collapsed": true
   },
   "outputs": [],
   "source": [
    "print(len(num_charges_results))\n",
    "for row in num_charges_results[:10]:\n",
    "    pp.pprint({k: v for k, v in row.items()})"
   ]
  },
  {
   "cell_type": "code",
   "execution_count": null,
   "metadata": {
    "collapsed": true
   },
   "outputs": [],
   "source": [
    "plt.hist([row['num_charges'] for row in num_charges_results], bins=20)\n",
    "plt.xlabel('Number of offenses')\n",
    "plt.ylabel('Number of inmates')\n",
    "plt.title('Histogram of number of disciplinary infraction charges by inmate')\n",
    "plt.show()"
   ]
  },
  {
   "cell_type": "code",
   "execution_count": null,
   "metadata": {
    "collapsed": true
   },
   "outputs": [],
   "source": [
    "plt.hist(np.log([row['num_charges'] for row in num_charges_results]), bins=20)\n",
    "plt.xlabel('Number of offenses (ln)')\n",
    "plt.ylabel('Number of inmates')\n",
    "plt.title('Histogram of number of disciplinary infraction charges by inmate')\n",
    "plt.show()"
   ]
  },
  {
   "cell_type": "markdown",
   "metadata": {},
   "source": [
    "Now let's try to join that information with some ethnic information"
   ]
  },
  {
   "cell_type": "code",
   "execution_count": null,
   "metadata": {
    "collapsed": true
   },
   "outputs": [],
   "source": [
    "sql_query = '''\n",
    "    SELECT raw_inmates.inmate_doc_id, num_charges, inmate_ethnic \n",
    "    FROM\n",
    "            (SELECT inmate_doc_id, COUNT(*) AS num_charges FROM raw.inmt4aa1 as inmates\n",
    "            LEFT JOIN raw.INMT9CF1 as infraction\n",
    "            ON inmates.inmate_doc_id = infraction.offender_doc_id\n",
    "            GROUP BY inmate_doc_id) AS charges_table \n",
    "        JOIN raw.inmt4aa1 as raw_inmates ON raw_inmates.inmate_doc_id = charges_table.inmate_doc_id;\n",
    "'''\n",
    "\n",
    "pgsql_cursor_dict.execute(sql_query)\n",
    "num_charges_results = pgsql_cursor_dict.fetchall()"
   ]
  },
  {
   "cell_type": "code",
   "execution_count": null,
   "metadata": {
    "collapsed": true
   },
   "outputs": [],
   "source": [
    "print(len(num_charges_results))\n",
    "for row in num_charges_results[:10]:\n",
    "    pp.pprint({k: v for k, v in row.items()})"
   ]
  },
  {
   "cell_type": "code",
   "execution_count": null,
   "metadata": {
    "collapsed": true
   },
   "outputs": [],
   "source": [
    "# prepare data to be plotted\n",
    "data_by_ethnicity = {}\n",
    "for row in num_charges_results:\n",
    "    ethnicity = row['inmate_ethnic']\n",
    "    if ethnicity not in data_by_ethnicity:\n",
    "        data_by_ethnicity[ethnicity] = []\n",
    "    data_by_ethnicity[ethnicity].append(row['num_charges'])"
   ]
  },
  {
   "cell_type": "code",
   "execution_count": null,
   "metadata": {
    "collapsed": true
   },
   "outputs": [],
   "source": [
    "for e in data_by_ethnicity:\n",
    "    print(e, len(data_by_ethnicity[e]))"
   ]
  },
  {
   "cell_type": "code",
   "execution_count": null,
   "metadata": {
    "collapsed": true
   },
   "outputs": [],
   "source": [
    "to_plot = random.sample(list(data_by_ethnicity.keys()), 3)\n",
    "data_to_plot = [data_by_ethnicity[e] for e in data_by_ethnicity if e in to_plot]\n",
    "fig = plt.figure(1, figsize=(8, 5))\n",
    "ax = fig.add_subplot(111)\n",
    "bp = ax.boxplot(data_to_plot, sym='')\n",
    "ax.set_xticklabels(to_plot)\n",
    "plt.ylabel('num offenses')\n",
    "plt.show()"
   ]
  },
  {
   "cell_type": "code",
   "execution_count": null,
   "metadata": {
    "collapsed": true
   },
   "outputs": [],
   "source": []
  }
 ],
 "metadata": {
  "kernelspec": {
   "display_name": "Python 3",
   "language": "python",
   "name": "python3"
  },
  "language_info": {
   "codemirror_mode": {
    "name": "ipython",
    "version": 3
   },
   "file_extension": ".py",
   "mimetype": "text/x-python",
   "name": "python",
   "nbconvert_exporter": "python",
   "pygments_lexer": "ipython3",
   "version": "3.6.9"
  }
 },
 "nbformat": 4,
 "nbformat_minor": 4
}
